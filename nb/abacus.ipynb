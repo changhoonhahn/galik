{
 "cells": [
  {
   "cell_type": "markdown",
   "metadata": {},
   "source": [
    "# abacus simulations\n",
    "testing I/O for the abacus simulations on NERSC"
   ]
  },
  {
   "cell_type": "code",
   "execution_count": 1,
   "metadata": {},
   "outputs": [],
   "source": [
    "import numpy as np\n",
    "from abacusnbody.data.compaso_halo_catalog import CompaSOHaloCatalog"
   ]
  },
  {
   "cell_type": "code",
   "execution_count": 2,
   "metadata": {},
   "outputs": [
    {
     "data": {
      "text/plain": [
       "\u001b[0;31mInit signature:\u001b[0m\n",
       "\u001b[0mCompaSOHaloCatalog\u001b[0m\u001b[0;34m(\u001b[0m\u001b[0;34m\u001b[0m\n",
       "\u001b[0;34m\u001b[0m    \u001b[0mpath\u001b[0m\u001b[0;34m,\u001b[0m\u001b[0;34m\u001b[0m\n",
       "\u001b[0;34m\u001b[0m    \u001b[0mload_subsamples\u001b[0m\u001b[0;34m=\u001b[0m\u001b[0;32mFalse\u001b[0m\u001b[0;34m,\u001b[0m\u001b[0;34m\u001b[0m\n",
       "\u001b[0;34m\u001b[0m    \u001b[0mconvert_units\u001b[0m\u001b[0;34m=\u001b[0m\u001b[0;32mTrue\u001b[0m\u001b[0;34m,\u001b[0m\u001b[0;34m\u001b[0m\n",
       "\u001b[0;34m\u001b[0m    \u001b[0munpack_bits\u001b[0m\u001b[0;34m=\u001b[0m\u001b[0;32mFalse\u001b[0m\u001b[0;34m,\u001b[0m\u001b[0;34m\u001b[0m\n",
       "\u001b[0;34m\u001b[0m    \u001b[0mfields\u001b[0m\u001b[0;34m=\u001b[0m\u001b[0;34m'all'\u001b[0m\u001b[0;34m,\u001b[0m\u001b[0;34m\u001b[0m\n",
       "\u001b[0;34m\u001b[0m    \u001b[0mverbose\u001b[0m\u001b[0;34m=\u001b[0m\u001b[0;32mFalse\u001b[0m\u001b[0;34m,\u001b[0m\u001b[0;34m\u001b[0m\n",
       "\u001b[0;34m\u001b[0m\u001b[0;34m)\u001b[0m\u001b[0;34m\u001b[0m\u001b[0;34m\u001b[0m\u001b[0m\n",
       "\u001b[0;31mDocstring:\u001b[0m      A halo catalog from Abacus's on-the-fly group finder.\n",
       "\u001b[0;31mInit docstring:\u001b[0m\n",
       "Loads halos.  The ``halos`` field of this object will contain\n",
       "the halo records; and the ``subsamples`` field will contain\n",
       "the corresponding halo/field subsample positions and velocities and their\n",
       "ids (if requested via ``load_subsamples``).  The ``header`` field contains\n",
       "metadata about the simulation.\n",
       "\n",
       "Whether a particle is tagged or not is returned when loading the\n",
       "halo and field pids, as it is encoded for each in the 64-bit PID.\n",
       "The local density of the particle is also encoded in the PIDs \n",
       "and returned upon loading those.\n",
       "\n",
       "Parameters\n",
       "----------\n",
       "path: str or list of str\n",
       "    The directory containing the halo files, like ``MySimulation/halos/z1.000``.\n",
       "    Or a halo info file, or a list of halo info files.\n",
       "\n",
       "load_subsamples: bool or str, optional\n",
       "    Load halo particle subsamples.  True or False may be specified\n",
       "    to load all particles or none, or a string in the following format\n",
       "    may be specified:\n",
       "    \n",
       "    .. code-block:: none\n",
       "\n",
       "        <A|B|AB>_[halo_|field_]<pid|rv|all>\n",
       "\n",
       "    where fields in ``<>`` are mandatory and fields in ``[]`` are optional.\n",
       "    So ``A_halo_rv`` would load the halo RVs from the A subsample and ``AB_pid``\n",
       "    loads the halo and field PIDs from both subsamples.\n",
       "    True is equivalent to ``AB_all``.\n",
       "    False (the default) loads nothing.\n",
       "\n",
       "convert_units: bool, optional\n",
       "    Convert positions from unit-box units to BoxSize-box units,\n",
       "    velocities already come in km/s.  Default: True.\n",
       "\n",
       "    #TODO: above velocity units right?\n",
       "\n",
       "unpack_bits: bool, optional\n",
       "    Extract information from the PID field of each subsample particle\n",
       "    info about its Lagrangian position, whether it is tagged,  and its\n",
       "    current local density.  If False, only the particle ID part will\n",
       "    be extracted.\n",
       "    Default: False.\n",
       "\n",
       "fields: str or list of str, optional\n",
       "    A list of field names/halo properties to load.  Selecting a small\n",
       "    subset of fields can be substantially faster than loading all fields\n",
       "    because the file IO will be limited to the desired fields.\n",
       "    See ``compaso_halo_catalog.user_dt`` or the :doc:`AbacusSummit Data Model page <summit:data-products>`\n",
       "    for a list of available fields.\n",
       "    Default: 'all'\n",
       "\n",
       "verbose: bool, optional\n",
       "    Print informational messages. Default: False\n",
       "    \n",
       "\u001b[0;31mFile:\u001b[0m           ~/.conda/envs/abacus/lib/python3.7/site-packages/abacusnbody/data/compaso_halo_catalog.py\n",
       "\u001b[0;31mType:\u001b[0m           type\n",
       "\u001b[0;31mSubclasses:\u001b[0m     \n"
      ]
     },
     "metadata": {},
     "output_type": "display_data"
    }
   ],
   "source": [
    "CompaSOHaloCatalog?"
   ]
  },
  {
   "cell_type": "code",
   "execution_count": 3,
   "metadata": {},
   "outputs": [],
   "source": [
    "cat = CompaSOHaloCatalog(\"/global/cfs/cdirs/desi/cosmosim/Abacus/AbacusSummit_hugebase_c000_ph000/halos/z0.100/halo_info/halo_info_000.asdf\", load_subsamples='A_halo_all')"
   ]
  },
  {
   "cell_type": "code",
   "execution_count": 4,
   "metadata": {},
   "outputs": [
    {
     "name": "stdout",
     "output_type": "stream",
     "text": [
      "particle mass = 5.69e+10 Msun/h\n"
     ]
    }
   ],
   "source": [
    "M_particle = cat.header['ParticleMassHMsun'] # Msun/h\n",
    "print('particle mass = %.2e Msun/h' % M_particle)"
   ]
  },
  {
   "cell_type": "code",
   "execution_count": 5,
   "metadata": {},
   "outputs": [],
   "source": [
    "halo_pos = cat.halos['SO_central_particle'] # halo position set to central particle position\n",
    "halo_mass = cat.halos['N'] * M_particle"
   ]
  },
  {
   "cell_type": "code",
   "execution_count": 6,
   "metadata": {},
   "outputs": [],
   "source": [
    "i_halo = np.random.choice(np.where((halo_mass > 1e14) & (halo_mass < 2e14))[0], size=1)[0]"
   ]
  },
  {
   "cell_type": "code",
   "execution_count": 7,
   "metadata": {},
   "outputs": [],
   "source": [
    "halo = cat.halos[i_halo]"
   ]
  },
  {
   "cell_type": "code",
   "execution_count": 10,
   "metadata": {},
   "outputs": [],
   "source": [
    "particle_pos = cat.subsamples['pos'][halo['npstartA']:halo['npstartA'] + halo['npoutA']]"
   ]
  },
  {
   "cell_type": "code",
   "execution_count": 11,
   "metadata": {},
   "outputs": [],
   "source": [
    "particle_cpos = particle_pos - halo_pos[i_halo] # cluster centric position"
   ]
  },
  {
   "cell_type": "code",
   "execution_count": 9,
   "metadata": {},
   "outputs": [
    {
     "name": "stderr",
     "output_type": "stream",
     "text": [
      "Matplotlib is building the font cache; this may take a moment.\n"
     ]
    }
   ],
   "source": [
    "import matplotlib.pyplot as plt"
   ]
  },
  {
   "cell_type": "code",
   "execution_count": 14,
   "metadata": {},
   "outputs": [
    {
     "data": {
      "text/plain": [
       "(-1.0, 1.0)"
      ]
     },
     "execution_count": 14,
     "metadata": {},
     "output_type": "execute_result"
    },
    {
     "data": {
      "image/png": "[encoded data removed]",
      "text/plain": [
       "<Figure size 720x360 with 2 Axes>"
      ]
     },
     "metadata": {
      "needs_background": "light"
     },
     "output_type": "display_data"
    }
   ],
   "source": [
    "fig = plt.figure(figsize=(10,5))\n",
    "sub = fig.add_subplot(121)\n",
    "sub.scatter(particle_cpos[:,0], particle_cpos[:,1])\n",
    "sub.set_xlabel('x', fontsize=25)\n",
    "sub.set_xlim(-1., 1)\n",
    "sub.set_ylabel('y', fontsize=25)\n",
    "sub.set_ylim(-1., 1)\n",
    "\n",
    "sub = fig.add_subplot(122)\n",
    "sub.scatter(particle_cpos[:,2], particle_cpos[:,1])\n",
    "sub.set_xlabel('z', fontsize=25)\n",
    "sub.set_xlim(-1., 1)\n",
    "sub.set_ylim(-1., 1)"
   ]
  },
  {
   "cell_type": "code",
   "execution_count": null,
   "metadata": {},
   "outputs": [],
   "source": []
  }
 ],
 "metadata": {
  "kernelspec": {
   "display_name": "abacus",
   "language": "python",
   "name": "abacus"
  },
  "language_info": {
   "codemirror_mode": {
    "name": "ipython",
    "version": 3
   },
   "file_extension": ".py",
   "mimetype": "text/x-python",
   "name": "python",
   "nbconvert_exporter": "python",
   "pygments_lexer": "ipython3",
   "version": "3.7.9"
  }
 },
 "nbformat": 4,
 "nbformat_minor": 4
}
